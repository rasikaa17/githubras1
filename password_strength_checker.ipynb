{
  "cells": [
    {
      "cell_type": "markdown",
      "metadata": {
        "id": "view-in-github",
        "colab_type": "text"
      },
      "source": [
        "<a href=\"https://colab.research.google.com/github/rasikaa17/githubras1/blob/main/password_strength_checker.ipynb\" target=\"_parent\"><img src=\"https://colab.research.google.com/assets/colab-badge.svg\" alt=\"Open In Colab\"/></a>"
      ]
    },
    {
      "cell_type": "code",
      "source": [
        "import time\n",
        "import re\n",
        "\n",
        "stored_passwords = []\n",
        "\n",
        "def strong_password():\n",
        "    while True:\n",
        "        pw = input(\"Enter Password: \")\n",
        "\n",
        "        if (len(pw) >= 6 and\n",
        "            re.search(r\"[0-9]\", pw) and\n",
        "            re.search(r\"[!@*&]\", pw) and\n",
        "            re.search(r\"[a-z]\", pw) and\n",
        "            re.search(r\"[A-Z]\", pw)):\n",
        "\n",
        "            print(\"\\n Password is strong! Storing it...\")\n",
        "            time.sleep(1)\n",
        "            stored_passwords.append(pw)\n",
        "            print(\" Stored Passwords:\", stored_passwords)\n",
        "            break\n",
        "        else:\n",
        "            print(\"\\n Weak Password! Try again. Must include:\")\n",
        "            print(\"- At least 6 characters\")\n",
        "            print(\"- At least one digit\")\n",
        "            print(\"- At least one special character (!@*&)\")\n",
        "            print(\"- Both lowercase and uppercase letters\\n\")\n",
        "\n",
        "strong_password()\n"
      ],
      "metadata": {
        "colab": {
          "base_uri": "https://localhost:8080/"
        },
        "id": "5phot0-0AWnH",
        "outputId": "bafccb1e-8359-456a-b71f-28941b45f8eb"
      },
      "execution_count": 1,
      "outputs": [
        {
          "output_type": "stream",
          "name": "stdout",
          "text": [
            "Enter Password: rasi@123\n",
            "\n",
            " Weak Password! Try again. Must include:\n",
            "- At least 6 characters\n",
            "- At least one digit\n",
            "- At least one special character (!@*&)\n",
            "- Both lowercase and uppercase letters\n",
            "\n",
            "Enter Password: Rasi@123\n",
            "\n",
            " Password is strong! Storing it...\n",
            " Stored Passwords: ['Rasi@123']\n"
          ]
        }
      ]
    },
    {
      "cell_type": "code",
      "source": [],
      "metadata": {
        "id": "JvB-EyvzAYAn"
      },
      "execution_count": null,
      "outputs": []
    }
  ],
  "metadata": {
    "colab": {
      "toc_visible": true,
      "provenance": [],
      "include_colab_link": true
    },
    "kernelspec": {
      "display_name": "Python 3",
      "name": "python3"
    }
  },
  "nbformat": 4,
  "nbformat_minor": 0
}